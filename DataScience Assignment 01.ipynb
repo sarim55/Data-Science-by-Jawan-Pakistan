{
 "cells": [
  {
   "cell_type": "code",
   "execution_count": 1,
   "id": "d61e5d94",
   "metadata": {},
   "outputs": [
    {
     "name": "stdout",
     "output_type": "stream",
     "text": [
      "Twinkle, twinkle, little star,\n",
      "\tHow I wonder what you are!\n",
      "\t\tUp above the world so high,\n",
      "\t\tLike a diamond in the sky.\n",
      "Twinkle, twinkle, little star,\n",
      "\tHow I wonder what you are\n"
     ]
    }
   ],
   "source": [
    "\"\"\"\"\n",
    "1. Write a Python program to print the following string in a specific format (see the output).\n",
    "Twinkle, twinkle, little star,\n",
    "        How I wonder what you are!\n",
    "                Up above the world so high,\n",
    "                Like a diamond in the sky.\n",
    "Twinkle, twinkle, little star,\n",
    "        How I wonder what you are\n",
    "\"\"\"\n",
    "print(\"Twinkle, twinkle, little star,\\n\\tHow I wonder what you are!\\n\\t\\tUp above the world so high,\")\n",
    "print(\"\\t\\tLike a diamond in the sky.\\nTwinkle, twinkle, little star,\\n\\tHow I wonder what you are\")"
   ]
  },
  {
   "cell_type": "code",
   "execution_count": 2,
   "id": "2e2c2bb0",
   "metadata": {},
   "outputs": [
    {
     "name": "stdout",
     "output_type": "stream",
     "text": [
      "Python version\n",
      "3.8.8 (default, Apr 13 2021, 15:08:03) [MSC v.1916 64 bit (AMD64)]\n"
     ]
    }
   ],
   "source": [
    "import sys\n",
    "print(\"Python version\")\n",
    "print (sys.version)"
   ]
  },
  {
   "cell_type": "code",
   "execution_count": 3,
   "id": "bfbc1912",
   "metadata": {},
   "outputs": [
    {
     "name": "stdout",
     "output_type": "stream",
     "text": [
      "2022-01-01 15:09:15.805337\n"
     ]
    }
   ],
   "source": [
    "#3. Write a Python program to display the current date and time.\n",
    "\n",
    "from datetime import datetime\n",
    "print(datetime.now())"
   ]
  },
  {
   "cell_type": "code",
   "execution_count": 4,
   "id": "f719ce26",
   "metadata": {},
   "outputs": [
    {
     "name": "stdout",
     "output_type": "stream",
     "text": [
      "Enter the value of radius 3.8\n",
      "23.864\n"
     ]
    }
   ],
   "source": [
    "#4. Write a Python program which accepts the radius of a circle from the user and compute the area.\n",
    "\n",
    "a=float(input(\"Enter the value of radius \"))\n",
    "area=2*3.14*a\n",
    "print(area)"
   ]
  },
  {
   "cell_type": "code",
   "execution_count": 5,
   "id": "25c91aaf",
   "metadata": {},
   "outputs": [
    {
     "name": "stdout",
     "output_type": "stream",
     "text": [
      "Enter the first name: Sarim\n",
      "Enter the last name: Ali Khan\n",
      "m i r a S \n",
      "n a h K   i l A \n"
     ]
    }
   ],
   "source": [
    "#5. Write a Python program which accepts the user's first and last name and print them in reverse order with a space between them.\n",
    "n1 =input(\"Enter the first name: \")\n",
    "n2 = input(\"Enter the last name: \")\n",
    "count=0\n",
    "count2=0\n",
    "for s in n1:\n",
    "    count+=1\n",
    "for s in n2:\n",
    "    count2 +=1\n",
    "for s in n1:\n",
    "    if s == n1[0]:\n",
    "        s1 =n1[count-1] + \" \"\n",
    "    else:\n",
    "        s1 =  s1 + n1[count-1] + \" \"\n",
    "    count -=1 \n",
    "for s in n2:\n",
    "    if s == n2[0]:\n",
    "        s2 =n2[count2-1] + \" \"\n",
    "    else:\n",
    "        s2 =  s2 + n2[count2-1] + \" \"\n",
    "    count2 -=1\n",
    "print(s1) \n",
    "print(s2)\n"
   ]
  },
  {
   "cell_type": "code",
   "execution_count": 6,
   "id": "a9d0888d",
   "metadata": {},
   "outputs": [
    {
     "name": "stdout",
     "output_type": "stream",
     "text": [
      "Enter first number: 22\n",
      "Enter second number: 90\n",
      "112\n"
     ]
    }
   ],
   "source": [
    "#6. Write a python program which takes two inputs from user and print them addition\n",
    "\n",
    "no1=int(input(\"Enter first number: \"))\n",
    "no2=int(input(\"Enter second number: \"))\n",
    "total=no1+no2\n",
    "print(total)"
   ]
  },
  {
   "cell_type": "code",
   "execution_count": null,
   "id": "699a9ccb",
   "metadata": {},
   "outputs": [],
   "source": []
  }
 ],
 "metadata": {
  "kernelspec": {
   "display_name": "Python 3",
   "language": "python",
   "name": "python3"
  },
  "language_info": {
   "codemirror_mode": {
    "name": "ipython",
    "version": 3
   },
   "file_extension": ".py",
   "mimetype": "text/x-python",
   "name": "python",
   "nbconvert_exporter": "python",
   "pygments_lexer": "ipython3",
   "version": "3.8.8"
  }
 },
 "nbformat": 4,
 "nbformat_minor": 5
}
